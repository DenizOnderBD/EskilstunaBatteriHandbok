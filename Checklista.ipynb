{
 "cells": [
  {
   "cell_type": "code",
   "execution_count": 4,
   "id": "c317228f",
   "metadata": {},
   "outputs": [
    {
     "name": "stdout",
     "output_type": "stream",
     "text": [
      "Overwriting checklist.html\n"
     ]
    }
   ],
   "source": [
    "%%writefile checklist.html\n",
    "<!DOCTYPE html>\n",
    "<html lang=\"sv\">\n",
    "<head>\n",
    "  <meta charset=\"UTF-8\">\n",
    "  <title>Checklist för Batterier</title>\n",
    "  <link rel=\"stylesheet\" href=\"css/style.css\">\n",
    "</head>\n",
    "<body>"
   ]
  },
  {
   "cell_type": "code",
   "execution_count": 5,
   "id": "ef578647",
   "metadata": {},
   "outputs": [
    {
     "name": "stdout",
     "output_type": "stream",
     "text": [
      "Overwriting checklist.html\n"
     ]
    }
   ],
   "source": [
    "%%writefile checklist.html\n",
    "<div class=\"sidebar\">\n",
    "  <h3>Kapitel</h3>\n",
    "  <ul id=\"chapterList\">\n",
    "    <li data-target=\"chapter1\">1 - Hur batteriet ska användas</li>\n",
    "    <li data-target=\"chapter2\">2 - Hur stort batteriet bör vara</li>\n",
    "    <li data-target=\"chapter3\">3 - Batteriets placering</li>\n",
    "    <li data-target=\"chapter4\">4 - Kontraktets utformning</li>\n",
    "  </ul>\n",
    "</div>"
   ]
  },
  {
   "cell_type": "code",
   "execution_count": null,
   "id": "3f14696a",
   "metadata": {},
   "outputs": [],
   "source": [
    "%%writefile -a checklist.html\n",
    "<div class=\"chapter\" id=\"chapter1\">\n",
    "  <div class=\"chapter-header\">1 - Hur batteriet ska användas</div>\n",
    "  <div class=\"chapter-content\">\n",
    "    <!-- ... text, underkapitel 1.1, 1.2, etc. ... -->\n",
    "  </div>\n",
    "</div>"
   ]
  },
  {
   "cell_type": "code",
   "execution_count": 6,
   "id": "0c0d3ece",
   "metadata": {},
   "outputs": [
    {
     "name": "stdout",
     "output_type": "stream",
     "text": [
      "Appending to checklist.html\n"
     ]
    }
   ],
   "source": [
    "%%writefile -a checklist.html\n",
    "  <script src=\"js/main.js\"></script>\n",
    "</body>\n",
    "</html>"
   ]
  }
 ],
 "metadata": {
  "kernelspec": {
   "display_name": "Python 3",
   "language": "python",
   "name": "python3"
  },
  "language_info": {
   "codemirror_mode": {
    "name": "ipython",
    "version": 3
   },
   "file_extension": ".py",
   "mimetype": "text/x-python",
   "name": "python",
   "nbconvert_exporter": "python",
   "pygments_lexer": "ipython3",
   "version": "3.12.6"
  }
 },
 "nbformat": 4,
 "nbformat_minor": 5
}
